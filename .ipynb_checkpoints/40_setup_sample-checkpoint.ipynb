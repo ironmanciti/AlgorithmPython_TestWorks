{
 "cells": [
  {
   "cell_type": "markdown",
   "metadata": {},
   "source": [
    "# 40. 파이썬 배포 파일 만들기 \n",
    "\n",
    "### 필요한 사항\n",
    "\n",
    "1. setuptools 라이브러리  \n",
    "    !pip list 명령으로 확인\n",
    "2. setup.py 와 README.txt 파일  \n",
    "3. 패키징할 모듈"
   ]
  },
  {
   "cell_type": "markdown",
   "metadata": {},
   "source": [
    "python setup.py sdist 명령 수행\n",
    "\n",
    "아래와 같이 작업 끝나면 정상 수행"
   ]
  },
  {
   "cell_type": "markdown",
   "metadata": {},
   "source": [
    "```\n",
    "(base) ohyoungjea@oyeongje-ui-MacBookPro 40_sample_setup % python setup.py sdist\n",
    "running sdist\n",
    "running egg_info\n",
    "creating module_test.egg-info\n",
    "writing module_test.egg-info/PKG-INFO\n",
    "writing dependency_links to module_test.egg-info/dependency_links.txt\n",
    "writing top-level names to module_test.egg-info/top_level.txt\n",
    "writing manifest file 'module_test.egg-info/SOURCES.txt'\n",
    "reading manifest file 'module_test.egg-info/SOURCES.txt'\n",
    "writing manifest file 'module_test.egg-info/SOURCES.txt'\n",
    "running check\n",
    "creating module_test-1.0.0\n",
    "creating module_test-1.0.0/module_test.egg-info\n",
    "copying files to module_test-1.0.0...\n",
    "copying README.txt -> module_test-1.0.0\n",
    "copying module_test.py -> module_test-1.0.0\n",
    "copying setup.py -> module_test-1.0.0\n",
    "copying module_test.egg-info/PKG-INFO -> module_test-1.0.0/module_test.egg-info\n",
    "copying module_test.egg-info/SOURCES.txt -> module_test-1.0.0/module_test.egg-info\n",
    "copying module_test.egg-info/dependency_links.txt -> module_test-1.0.0/module_test.egg-info\n",
    "copying module_test.egg-info/top_level.txt -> module_test-1.0.0/module_test.egg-info\n",
    "Writing module_test-1.0.0/setup.cfg\n",
    "creating dist\n",
    "Creating tar archive\n",
    "removing 'module_test-1.0.0' (and everything under it)\n",
    "```"
   ]
  },
  {
   "cell_type": "markdown",
   "metadata": {},
   "source": [
    "- dist 디렉터리에 tar.gz 파일 생성 확인  "
   ]
  },
  {
   "cell_type": "markdown",
   "metadata": {},
   "source": [
    "## 생성한 배포 파일 설치\n",
    "\n",
    "- tag.tz 파일이 있는 디렉터리에서 다음 명령 수행"
   ]
  },
  {
   "cell_type": "markdown",
   "metadata": {},
   "source": [
    "```\n",
    "python -m pip install module_test-1.0.0.tar.gz\n",
    "```\n",
    "\n",
    "```\n",
    "Processing ./module_test-1.0.0.tar.gz\n",
    "Building wheels for collected packages: module-test\n",
    "  Building wheel for module-test (setup.py) ... done\n",
    "  Created wheel for module-test: filename=module_test-1.0.0-py3-none-any.whl size=1350 sha256=1d59302a7ea25686ee97fb08ba638f03ed227c89b4375eab4e91ef6018b27fcd\n",
    "  Stored in directory: /Users/ohyoungjea/Library/Caches/pip/wheels/57/f4/0d/2c4eb3333eacbdfb461811670e10efe71e35e0743efe00a0c9\n",
    "Successfully built module-test\n",
    "Installing collected packages: module-test\n",
    "Successfully installed module-test-1.0.0\n",
    "```"
   ]
  },
  {
   "cell_type": "markdown",
   "metadata": {},
   "source": [
    "pip list 커맨드로 설치 확인\n",
    "\n",
    "```\n",
    "mkl-fft                                 1.2.0\n",
    "mkl-random                              1.1.1\n",
    "mkl-service                             2.3.0\n",
    "mock                                    2.0.0\n",
    "module-test                             1.0.0\n",
    "monotonic                               1.5\n",
    "more-itertools                          8.1.0\n",
    "murmurhash                              1.0.2\n",
    "mypy-extensions                         0.4.3\n",
    "nbclassic                               0.2.5\n",
    "nbclient                                0.5.1\n",
    "nbconvert                               6.0.7\n",
    "```"
   ]
  },
  {
   "cell_type": "code",
   "execution_count": null,
   "metadata": {},
   "outputs": [],
   "source": []
  }
 ],
 "metadata": {
  "kernelspec": {
   "display_name": "Python 3.7.3 64-bit ('base': conda)",
   "language": "python",
   "name": "python37364bitbaseconda2c9af2855d6145d8a365da9e9ceb6f7a"
  },
  "language_info": {
   "codemirror_mode": {
    "name": "ipython",
    "version": 3
   },
   "file_extension": ".py",
   "mimetype": "text/x-python",
   "name": "python",
   "nbconvert_exporter": "python",
   "pygments_lexer": "ipython3",
   "version": "3.7.3"
  }
 },
 "nbformat": 4,
 "nbformat_minor": 4
}
